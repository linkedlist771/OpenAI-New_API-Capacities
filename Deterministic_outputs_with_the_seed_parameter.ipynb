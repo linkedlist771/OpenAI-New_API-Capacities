{
 "cells": [
  {
   "cell_type": "markdown",
   "metadata": {
    "cell_id": "67bb097e130b41099c9d257dc06a4054",
    "deepnote_cell_type": "markdown"
   },
   "source": [
    "# How to make your completions outputs consistent with the new seed parameter\n",
    "\n",
    "**TLDR**: Developers can now specify `seed` parameter in the Chat Completion request for consistent completions. We always include a `system_fingerprint` in the response that helps developers understand changes in our system that will affect determinism.\n",
    "\n",
    "### Context\n",
    "\n",
    "Determinism has always been a big request from user communities when using our APIs. For instance, when granted the capability of getting deterministic numerical result, users can unlock quite a bit of use cases that’s sensitive to numerical changes.\n",
    "\n",
    "#### Model level features for consistent outputs\n",
    "\n",
    "The Chat Completions and Completions APIs are non-deterministic by default (which means model outputs may differ from request to request), but now offer some control towards deterministic outputs using a few model level controls.\n",
    "\n",
    "This can unlock consistent completions which enables full control on the model behaviors for anything built on top of the APIs, and quite useful for reproducing results and testing so you know get peace of mind from knowing exactly what you’d get.\n",
    "\n",
    "#### Implementing consistent outputs\n",
    "\n",
    "To receive _mostly_ deterministic outputs across API calls:\n",
    "\n",
    "- Set the `seed` parameter to any integer of your choice, but use the same value across requests. For example, `12345`.\n",
    "- Set all other parameters (prompt, temperature, top_p, etc.) to the same values across requests.\n",
    "- In the response, check the `system_fingerprint` field. The system fingerprint is an identifier for the current combination of model weights, infrastructure, and other configuration options used by OpenAI servers to generate the completion. It changes whenever you change request parameters, or OpenAI updates numerical configuration of the infrastructure serving our models (which may happen a few times a year).\n",
    "\n",
    "If the `seed`, request parameters, and `system_fingerprint` all match across your requests, then model outputs will mostly be identical. There is a small chance that responses differ even when request parameters and `system_fingerprint` match, due to the inherent non-determinism of computers.\n"
   ]
  },
  {
   "cell_type": "markdown",
   "metadata": {
    "cell_id": "f49611fa59af4303883d76c491095fea",
    "deepnote_cell_type": "markdown"
   },
   "source": [
    "### Model level controls for consistent outputs - `seed` and `system_fingerprint`\n",
    "\n",
    "##### `seed`\n",
    "\n",
    "If specified, our system will make a best effort to sample deterministically, such that repeated requests with the same seed and parameters should return the same result. Determinism is not guaranteed, and you should refer to the `system_fingerprint` response parameter to monitor changes in the backend.\n",
    "\n",
    "##### `system_fingerprint`\n",
    "\n",
    "This fingerprint represents the backend configuration that the model runs with. It can be used in conjunction with the seed request parameter to understand when backend changes have been made that might impact determinism.This is the indicator on whether users should expect \"almost always the same result\".\n"
   ]
  },
  {
   "cell_type": "markdown",
   "metadata": {
    "cell_id": "cc6cd37b9a2243aaa4688ef8832512eb",
    "deepnote_cell_type": "markdown"
   },
   "source": [
    "## Example: Generating a consistent short story with a fixed seed\n",
    "\n",
    "In this example, we will demonstrate how to generate a consistent short story using a fixed seed. This can be particularly useful in scenarios where you need to reproduce the same results for testing, debugging, or for applications that require consistent outputs.\n"
   ]
  },
  {
   "cell_type": "code",
   "execution_count": 18,
   "metadata": {
    "cell_id": "48fd2d4c95ad465090ef97254a4a10d2",
    "deepnote_cell_type": "code"
   },
   "outputs": [],
   "source": [
    "import asyncio\n",
    "import openai\n",
    "import pprint\n",
    "import difflib\n",
    "from IPython.display import display, HTML\n",
    "\n",
    "\n",
    "GPT_MODEL = \"gpt-3.5-turbo-1106\"\n",
    "client = openai.OpenAI()"
   ]
  },
  {
   "cell_type": "code",
   "execution_count": 21,
   "metadata": {
    "cell_id": "e54e0958be3746d39b6e4c16c59b395a",
    "deepnote_cell_type": "code",
    "deepnote_to_be_reexecuted": false,
    "execution_millis": 5,
    "execution_start": 1699034108287,
    "source_hash": null
   },
   "outputs": [],
   "source": [
    "\n",
    "async def get_chat_response(system_message: str, user_request: str, seed: int = None):\n",
    "    try:\n",
    "        messages = [\n",
    "            {\"role\": \"system\", \"content\": system_message},\n",
    "            {\"role\": \"user\", \"content\": user_request},\n",
    "        ]\n",
    "\n",
    "        response = client.chat.completions.create(\n",
    "\n",
    "            model=GPT_MODEL,\n",
    "            messages=messages,\n",
    "            seed=seed,\n",
    "            max_tokens=200,\n",
    "            temperature=0.7,\n",
    "        )\n",
    "\n",
    "        response_content = response.choices[0].message.content\n",
    "        system_fingerprint = response.system_fingerprint\n",
    "        prompt_tokens = response.usage.prompt_tokens\n",
    "        completion_tokens = (\n",
    "            response.usage.total_tokens - response.usage.prompt_tokens\n",
    "        )\n",
    "\n",
    "        table = f\"\"\"\n",
    "        <table>\n",
    "        <tr><th>Response</th><td>{response_content}</td></tr>\n",
    "        <tr><th>System Fingerprint</th><td>{system_fingerprint}</td></tr>\n",
    "        <tr><th>Number of prompt tokens</th><td>{prompt_tokens}</td></tr>\n",
    "        <tr><th>Number of completion tokens</th><td>{completion_tokens}</td></tr>\n",
    "        </table>\n",
    "        \"\"\"\n",
    "        display(HTML(table))\n",
    "\n",
    "        return response_content\n",
    "    except Exception as e:\n",
    "        print(f\"An error occurred: {e}\")\n",
    "        return None\n",
    "\n",
    "\n",
    "# This function compares two responses and displays the differences in a table.\n",
    "# Deletions are highlighted in red and additions are highlighted in green.\n",
    "# If no differences are found, it prints \"No differences found.\"\n",
    "\n",
    "\n",
    "def compare_responses(previous_response: str, response: str):\n",
    "    d = difflib.Differ()\n",
    "    diff = d.compare(previous_response.splitlines(), response.splitlines())\n",
    "\n",
    "    diff_table = \"<table>\"\n",
    "    diff_exists = False\n",
    "\n",
    "    for line in diff:\n",
    "        if line.startswith(\"- \"):\n",
    "            diff_table += f\"<tr style='color: red;'><td>{line}</td></tr>\"\n",
    "            diff_exists = True\n",
    "        elif line.startswith(\"+ \"):\n",
    "            diff_table += f\"<tr style='color: green;'><td>{line}</td></tr>\"\n",
    "            diff_exists = True\n",
    "        else:\n",
    "            diff_table += f\"<tr><td>{line}</td></tr>\"\n",
    "\n",
    "    diff_table += \"</table>\"\n",
    "    print(diff_table\n",
    "          )\n",
    "    if diff_exists:\n",
    "        display(HTML(diff_table))\n",
    "    else:\n",
    "        print(\"No differences found.\")"
   ]
  },
  {
   "cell_type": "markdown",
   "metadata": {
    "cell_id": "dfa39a438aa948cc910a46254df937af",
    "deepnote_cell_type": "text-cell-p",
    "formattedRanges": []
   },
   "source": [
    "\n",
    "First, let's try generating a short story about \"a journey to Mars\" without the `seed` parameter. This is the default behavior:\n"
   ]
  },
  {
   "cell_type": "code",
   "execution_count": 22,
   "metadata": {
    "cell_id": "9d09f63309c449e4929364caccfd7065",
    "deepnote_cell_type": "code",
    "deepnote_to_be_reexecuted": false,
    "execution_millis": 964,
    "execution_start": 1699034108745,
    "source_hash": null
   },
   "outputs": [
    {
     "data": {
      "text/plain": "<IPython.core.display.HTML object>",
      "text/html": "\n        <table>\n        <tr><th>Response</th><td>In the year 2050, a team of astronauts embarked on a groundbreaking journey to Mars. Their mission was to establish the first human settlement on the red planet. As their spaceship, named \"Pathfinder,\" soared through the vast expanse of space, the crew marveled at the breathtaking view of Earth growing smaller in the distance.\n\nAfter months of traveling, the Pathfinder finally approached Mars, and the astronauts prepared for the daunting task ahead. With their advanced technology and unwavering determination, they landed safely on the Martian surface, greeted by the desolate yet awe-inspiring landscape.\n\nThe crew immediately got to work, constructing habitats and developing sustainable systems for food and water. Despite the challenges they faced, their spirit remained unyielding. They were driven by the dream of paving the way for future generations to inhabit and explore the mysteries of Mars.\n\nAs the years passed, the settlement on Mars flourished, becoming a symbol of human resilience and ingenuity. The astronauts who had once embarked on a</td></tr>\n        <tr><th>System Fingerprint</th><td>fp_eeff13170a</td></tr>\n        <tr><th>Number of prompt tokens</th><td>31</td></tr>\n        <tr><th>Number of completion tokens</th><td>200</td></tr>\n        </table>\n        "
     },
     "metadata": {},
     "output_type": "display_data"
    },
    {
     "data": {
      "text/plain": "<IPython.core.display.HTML object>",
      "text/html": "\n        <table>\n        <tr><th>Response</th><td>In the year 2050, humanity had finally achieved its long-held dream of reaching the red planet. A team of six brave astronauts embarked on the historic journey to Mars, leaving behind the safety of Earth for the unknown challenges of the cosmos.\n\nAs their spacecraft hurtled through the vast expanse of space, the astronauts marveled at the stunning beauty of the stars and galaxies outside their windows. They spent their days conducting scientific experiments, maintaining the spacecraft, and preparing for the momentous landing on Mars.\n\nAfter months of travel, the spacecraft finally approached the Martian atmosphere. Tensions ran high as the crew braced themselves for the perilous descent. The captain's steady voice crackled over the intercom, guiding the team through the nail-biting moments as the spacecraft plunged through the thin atmosphere.\n\nFinally, the spacecraft touched down on the dusty surface of Mars, and the crew erupted into cheers and applause. Stepping out onto the alien world, they marveled at the rusty red landscape and the</td></tr>\n        <tr><th>System Fingerprint</th><td>fp_eeff13170a</td></tr>\n        <tr><th>Number of prompt tokens</th><td>31</td></tr>\n        <tr><th>Number of completion tokens</th><td>200</td></tr>\n        </table>\n        "
     },
     "metadata": {},
     "output_type": "display_data"
    },
    {
     "name": "stdout",
     "output_type": "stream",
     "text": [
      "<table><tr style='color: red;'><td>- In the year 2050, a team of astronauts embarked on a groundbreaking journey to Mars. Their mission was to establish the first human settlement on the red planet. As their spaceship, named \"Pathfinder,\" soared through the vast expanse of space, the crew marveled at the breathtaking view of Earth growing smaller in the distance.</td></tr><tr style='color: green;'><td>+ In the year 2050, humanity had finally achieved its long-held dream of reaching the red planet. A team of six brave astronauts embarked on the historic journey to Mars, leaving behind the safety of Earth for the unknown challenges of the cosmos.</td></tr><tr><td>  </td></tr><tr style='color: red;'><td>- After months of traveling, the Pathfinder finally approached Mars, and the astronauts prepared for the daunting task ahead. With their advanced technology and unwavering determination, they landed safely on the Martian surface, greeted by the desolate yet awe-inspiring landscape.</td></tr><tr style='color: green;'><td>+ As their spacecraft hurtled through the vast expanse of space, the astronauts marveled at the stunning beauty of the stars and galaxies outside their windows. They spent their days conducting scientific experiments, maintaining the spacecraft, and preparing for the momentous landing on Mars.</td></tr><tr><td>  </td></tr><tr style='color: red;'><td>- The crew immediately got to work, constructing habitats and developing sustainable systems for food and water. Despite the challenges they faced, their spirit remained unyielding. They were driven by the dream of paving the way for future generations to inhabit and explore the mysteries of Mars.</td></tr><tr style='color: green;'><td>+ After months of travel, the spacecraft finally approached the Martian atmosphere. Tensions ran high as the crew braced themselves for the perilous descent. The captain's steady voice crackled over the intercom, guiding the team through the nail-biting moments as the spacecraft plunged through the thin atmosphere.</td></tr><tr><td>  </td></tr><tr style='color: red;'><td>- As the years passed, the settlement on Mars flourished, becoming a symbol of human resilience and ingenuity. The astronauts who had once embarked on a</td></tr><tr style='color: green;'><td>+ Finally, the spacecraft touched down on the dusty surface of Mars, and the crew erupted into cheers and applause. Stepping out onto the alien world, they marveled at the rusty red landscape and the</td></tr></table>\n"
     ]
    },
    {
     "data": {
      "text/plain": "<IPython.core.display.HTML object>",
      "text/html": "<table><tr style='color: red;'><td>- In the year 2050, a team of astronauts embarked on a groundbreaking journey to Mars. Their mission was to establish the first human settlement on the red planet. As their spaceship, named \"Pathfinder,\" soared through the vast expanse of space, the crew marveled at the breathtaking view of Earth growing smaller in the distance.</td></tr><tr style='color: green;'><td>+ In the year 2050, humanity had finally achieved its long-held dream of reaching the red planet. A team of six brave astronauts embarked on the historic journey to Mars, leaving behind the safety of Earth for the unknown challenges of the cosmos.</td></tr><tr><td>  </td></tr><tr style='color: red;'><td>- After months of traveling, the Pathfinder finally approached Mars, and the astronauts prepared for the daunting task ahead. With their advanced technology and unwavering determination, they landed safely on the Martian surface, greeted by the desolate yet awe-inspiring landscape.</td></tr><tr style='color: green;'><td>+ As their spacecraft hurtled through the vast expanse of space, the astronauts marveled at the stunning beauty of the stars and galaxies outside their windows. They spent their days conducting scientific experiments, maintaining the spacecraft, and preparing for the momentous landing on Mars.</td></tr><tr><td>  </td></tr><tr style='color: red;'><td>- The crew immediately got to work, constructing habitats and developing sustainable systems for food and water. Despite the challenges they faced, their spirit remained unyielding. They were driven by the dream of paving the way for future generations to inhabit and explore the mysteries of Mars.</td></tr><tr style='color: green;'><td>+ After months of travel, the spacecraft finally approached the Martian atmosphere. Tensions ran high as the crew braced themselves for the perilous descent. The captain's steady voice crackled over the intercom, guiding the team through the nail-biting moments as the spacecraft plunged through the thin atmosphere.</td></tr><tr><td>  </td></tr><tr style='color: red;'><td>- As the years passed, the settlement on Mars flourished, becoming a symbol of human resilience and ingenuity. The astronauts who had once embarked on a</td></tr><tr style='color: green;'><td>+ Finally, the spacecraft touched down on the dusty surface of Mars, and the crew erupted into cheers and applause. Stepping out onto the alien world, they marveled at the rusty red landscape and the</td></tr></table>"
     },
     "metadata": {},
     "output_type": "display_data"
    }
   ],
   "source": [
    "topic = \"a journey to Mars\"\n",
    "system_message = \"You are a helpful assistant that generates short stories.\"\n",
    "user_request = f\"Generate a short story about {topic}.\"\n",
    "\n",
    "previous_response = await get_chat_response(\n",
    "    system_message=system_message, user_request=user_request\n",
    ")\n",
    "\n",
    "response = await get_chat_response(\n",
    "    system_message=system_message, user_request=user_request\n",
    ")\n",
    "\n",
    "# The function compare_responses is then called with the two responses as arguments.\n",
    "# This function will compare the two responses and display the differences in a table.\n",
    "# If no differences are found, it will print \"No differences found.\"\n",
    "compare_responses(previous_response, response)"
   ]
  },
  {
   "cell_type": "markdown",
   "metadata": {
    "cell_id": "e7eaf30e13ac4841b11dcffc505379c1",
    "deepnote_cell_type": "markdown"
   },
   "source": [
    "\n",
    "Now, let's try to generate the short story with the same topic (a journey to Mars) with a constant `seed` of 123 and compare the responses and `system_fingerprint`.\n"
   ]
  },
  {
   "cell_type": "code",
   "execution_count": 17,
   "metadata": {
    "cell_id": "a5754b8ef4074cf7adb479d44bebd97b",
    "deepnote_cell_type": "code"
   },
   "outputs": [
    {
     "data": {
      "text/plain": "<IPython.core.display.HTML object>",
      "text/html": "\n        <table>\n        <tr><th>Response</th><td>In the not-so-distant future, a team of brave astronauts embarked on a groundbreaking journey to Mars. The spacecraft, named \"Odyssey,\" soared through the vast expanse of space, leaving Earth behind as they ventured into the unknown.\n\nThe crew consisted of Captain Alex, a seasoned astronaut with a steely determination, Dr. Maya, a brilliant scientist and expert in extraterrestrial life, and Engineer Mark, a resourceful and quick-thinking problem solver.\n\nAs they neared the red planet, their excitement and anticipation grew. They marveled at the breathtaking sight of Mars, with its rusty red surface and majestic canyons. However, their mission was not without challenges. They encountered intense solar flares, navigational errors, and technical malfunctions, but their unwavering teamwork and resilience saw them through.\n\nUpon landing on Mars, the team eagerly set out to explore the alien landscape, conducting experiments and collecting samples. They marveled at the barren beauty of the desolate terrain, and</td></tr>\n        <tr><th>System Fingerprint</th><td>fp_eeff13170a</td></tr>\n        <tr><th>Number of prompt tokens</th><td>31</td></tr>\n        <tr><th>Number of completion tokens</th><td>200</td></tr>\n        </table>\n        "
     },
     "metadata": {},
     "output_type": "display_data"
    },
    {
     "data": {
      "text/plain": "<IPython.core.display.HTML object>",
      "text/html": "\n        <table>\n        <tr><th>Response</th><td>In the year 2050, a team of astronauts embarked on a historic journey to Mars. Their mission was to establish a sustainable colony on the red planet, paving the way for future exploration and potential habitation.\n\nAs their spacecraft soared through the vast expanse of space, the crew experienced a mix of excitement and trepidation. Each member had left behind loved ones and the familiar comforts of Earth, but they were driven by the promise of discovery and the opportunity to leave a lasting legacy.\n\nUpon their arrival, the astronauts were awestruck by the barren yet captivating landscape of Mars. They set to work constructing habitats, conducting experiments, and exploring the Martian terrain. Every day presented new challenges, from adapting to the planet's harsh environment to grappling with the isolation and solitude of being millions of miles away from home.\n\nDespite the hardships, the crew found inspiration in the breathtaking sunsets over the Martian horizon and the thrill of making groundbreaking scientific advancements. They learned to rely on each other and developed a</td></tr>\n        <tr><th>System Fingerprint</th><td>fp_eeff13170a</td></tr>\n        <tr><th>Number of prompt tokens</th><td>31</td></tr>\n        <tr><th>Number of completion tokens</th><td>200</td></tr>\n        </table>\n        "
     },
     "metadata": {},
     "output_type": "display_data"
    },
    {
     "data": {
      "text/plain": "<IPython.core.display.HTML object>",
      "text/html": "<table><tr style='color: red;'><td>- In the not-so-distant future, a team of brave astronauts embarked on a groundbreaking journey to Mars. The spacecraft, named \"Odyssey,\" soared through the vast expanse of space, leaving Earth behind as they ventured into the unknown.</td></tr><tr style='color: green;'><td>+ In the year 2050, a team of astronauts embarked on a historic journey to Mars. Their mission was to establish a sustainable colony on the red planet, paving the way for future exploration and potential habitation.</td></tr><tr><td>  </td></tr><tr style='color: red;'><td>- The crew consisted of Captain Alex, a seasoned astronaut with a steely determination, Dr. Maya, a brilliant scientist and expert in extraterrestrial life, and Engineer Mark, a resourceful and quick-thinking problem solver.</td></tr><tr style='color: green;'><td>+ As their spacecraft soared through the vast expanse of space, the crew experienced a mix of excitement and trepidation. Each member had left behind loved ones and the familiar comforts of Earth, but they were driven by the promise of discovery and the opportunity to leave a lasting legacy.</td></tr><tr><td>  </td></tr><tr style='color: red;'><td>- As they neared the red planet, their excitement and anticipation grew. They marveled at the breathtaking sight of Mars, with its rusty red surface and majestic canyons. However, their mission was not without challenges. They encountered intense solar flares, navigational errors, and technical malfunctions, but their unwavering teamwork and resilience saw them through.</td></tr><tr style='color: green;'><td>+ Upon their arrival, the astronauts were awestruck by the barren yet captivating landscape of Mars. They set to work constructing habitats, conducting experiments, and exploring the Martian terrain. Every day presented new challenges, from adapting to the planet's harsh environment to grappling with the isolation and solitude of being millions of miles away from home.</td></tr><tr><td>  </td></tr><tr style='color: red;'><td>- Upon landing on Mars, the team eagerly set out to explore the alien landscape, conducting experiments and collecting samples. They marveled at the barren beauty of the desolate terrain, and</td></tr><tr style='color: green;'><td>+ Despite the hardships, the crew found inspiration in the breathtaking sunsets over the Martian horizon and the thrill of making groundbreaking scientific advancements. They learned to rely on each other and developed a</td></tr></table>"
     },
     "metadata": {},
     "output_type": "display_data"
    }
   ],
   "source": [
    "SEED = 123\n",
    "response = await get_chat_response(\n",
    "    system_message=system_message, seed=SEED, user_request=user_request\n",
    ")\n",
    "previous_response = response\n",
    "response = await get_chat_response(\n",
    "    system_message=system_message, seed=SEED, user_request=user_request\n",
    ")\n",
    "\n",
    "compare_responses(previous_response, response)"
   ]
  },
  {
   "cell_type": "markdown",
   "metadata": {
    "cell_id": "f6c8ae9a6e29451baaeb52b7203fbea8",
    "deepnote_cell_type": "markdown"
   },
   "source": [
    "## Conclusion\n",
    "\n",
    "We demonstrated how to use a fixed integer `seed` to generate consistent outputs from our model.This is particularly useful in scenarios where reproducibility is important. However, it's important to note that while the `seed` ensures consistency, it does not guarantee the quality of the output. For instance, in the example provided, we used the same seed to generate a short story about a journey to Mars. Despite querying the model multiple times, the output remained consistent, demonstrating the effectiveness of using this model level control for reproducibility. Another great extension of this could be to use consistent `seed` when benchmarking/evaluating the performance of different prompts or models, to ensure that each version is evaluated under the same conditions, making the comparisons fair and the results reliable.\n"
   ]
  },
  {
   "cell_type": "markdown",
   "metadata": {
    "created_in_deepnote_cell": true,
    "deepnote_cell_type": "markdown"
   },
   "source": [
    "\n"
   ]
  },
  {
   "cell_type": "code",
   "execution_count": null,
   "outputs": [],
   "source": [],
   "metadata": {
    "collapsed": false,
    "pycharm": {
     "is_executing": true
    }
   }
  },
  {
   "cell_type": "code",
   "execution_count": 17,
   "outputs": [],
   "source": [],
   "metadata": {
    "collapsed": false
   }
  }
 ],
 "metadata": {
  "deepnote": {},
  "deepnote_execution_queue": [],
  "deepnote_notebook_id": "90ee66ed8ee74f0dad849c869f1da806",
  "kernelspec": {
   "display_name": "Python 3",
   "language": "python",
   "name": "python3"
  },
  "language_info": {
   "codemirror_mode": {
    "name": "ipython",
    "version": 3
   },
   "file_extension": ".py",
   "mimetype": "text/x-python",
   "name": "python",
   "nbconvert_exporter": "python",
   "pygments_lexer": "ipython3",
   "version": "3.9.13"
  }
 },
 "nbformat": 4,
 "nbformat_minor": 0
}
